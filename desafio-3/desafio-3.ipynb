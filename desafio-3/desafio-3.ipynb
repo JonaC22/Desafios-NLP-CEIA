{
 "cells": [
  {
   "attachments": {},
   "cell_type": "markdown",
   "metadata": {
    "id": "sZd5yLnnHOK0"
   },
   "source": [
    "<img src=\"https://github.com/hernancontigiani/ceia_memorias_especializacion/raw/master/Figures/logoFIUBA.jpg\" width=\"500\" align=\"center\">\n",
    "\n",
    "\n",
    "# Procesamiento de lenguaje natural\n",
    "## Custom embedddings con Gensim\n",
    "\n"
   ]
  },
  {
   "attachments": {},
   "cell_type": "markdown",
   "metadata": {
    "id": "vA7nqkumo9z9"
   },
   "source": [
    "### Objetivo\n",
    "El objetivo es utilizar documentos / corpus para crear embeddings de palabras basado en ese contexto. \n",
    "\n",
    "Se utilizará como dataset los tweets sobre ChatGPT que van de Enero a Marzo de 2023 para generar los embeddings. Los vectores tendrán la forma en función de como los usuarios hayan utilizado las palabras en sus tweets sobre ChatGPT.\n",
    "\n",
    "Fuente: https://www.kaggle.com/datasets/khalidryder777/500k-chatgpt-tweets-jan-mar-2023\n",
    "\n",
    "### Consignas\n",
    "\n",
    "- Crear sus propios vectores con Gensim basado en lo visto en clase con otro dataset.\n",
    "- Probar términos de interés y explicar similitudes en el espacio de embeddings (sacar conclusiones entre palabras similitudes y diferencias).\n",
    "- Graficarlos.\n",
    "- Obtener conclusiones."
   ]
  },
  {
   "cell_type": "code",
   "execution_count": 1,
   "metadata": {},
   "outputs": [],
   "source": [
    "# ! pip install gensim"
   ]
  },
  {
   "cell_type": "code",
   "execution_count": 2,
   "metadata": {
    "id": "lFToQs5FK5uZ"
   },
   "outputs": [],
   "source": [
    "import pandas as pd\n",
    "import numpy as np\n",
    "import matplotlib.pyplot as plt\n",
    "import seaborn as sns\n",
    "import os\n",
    "\n",
    "import multiprocessing\n",
    "from gensim.models import Word2Vec"
   ]
  },
  {
   "attachments": {},
   "cell_type": "markdown",
   "metadata": {
    "id": "g07zJxG7H9vG"
   },
   "source": [
    "### Datos"
   ]
  },
  {
   "cell_type": "code",
   "execution_count": 4,
   "metadata": {
    "id": "ticoqYD1Z3I7"
   },
   "outputs": [
    {
     "data": {
      "text/plain": [
       "0    Free AI marketing and automation tools, strate...\n",
       "1             @MecoleHardman4 Chat GPT says it’s 15. 😂\n",
       "2    https://t.co/FjJSprt0te - Chat with any PDF!\\n...\n",
       "3    AI muses: \"In the court of life, we must all f...\n",
       "4    Most people haven't heard of Chat GPT yet.\\nFi...\n",
       "Name: content, dtype: object"
      ]
     },
     "execution_count": 4,
     "metadata": {},
     "output_type": "execute_result"
    }
   ],
   "source": [
    "# Armar el dataset utilizando salto de línea para separar las oraciones/docs\n",
    "df = pd.read_csv('tweets-jan-mar.csv', nrows=50000)\n",
    "\n",
    "df = df['content']\n",
    "df = df.fillna('')\n",
    "df.head()"
   ]
  },
  {
   "cell_type": "code",
   "execution_count": 5,
   "metadata": {
    "id": "LEpKubK9XzXN"
   },
   "outputs": [
    {
     "name": "stdout",
     "output_type": "stream",
     "text": [
      "Cantidad de documentos: 50000\n"
     ]
    }
   ],
   "source": [
    "print(\"Cantidad de documentos:\", df.shape[0])"
   ]
  },
  {
   "attachments": {},
   "cell_type": "markdown",
   "metadata": {
    "id": "ab94qaFlrA1G"
   },
   "source": [
    "### 1 - Preprocesamiento"
   ]
  },
  {
   "cell_type": "code",
   "execution_count": 6,
   "metadata": {
    "id": "rIsmMWmjrDHd"
   },
   "outputs": [],
   "source": [
    "from keras.preprocessing.text import text_to_word_sequence\n",
    "\n",
    "sentence_tokens = []\n",
    "# Recorrer todas las filas y transformar las oraciones\n",
    "# en una secuencia de palabras (esto podría realizarse con NLTK o spaCy también)\n",
    "for _, row in df[:None].to_frame().iterrows():\n",
    "    sentence_tokens.append(text_to_word_sequence(row[0]))"
   ]
  },
  {
   "cell_type": "code",
   "execution_count": 7,
   "metadata": {
    "id": "CHepi_DGrbhq"
   },
   "outputs": [
    {
     "data": {
      "text/plain": [
       "[['free',\n",
       "  'ai',\n",
       "  'marketing',\n",
       "  'and',\n",
       "  'automation',\n",
       "  'tools',\n",
       "  'strategies',\n",
       "  'and',\n",
       "  'collaboration',\n",
       "  'launching',\n",
       "  'new',\n",
       "  'week',\n",
       "  'https',\n",
       "  't',\n",
       "  'co',\n",
       "  'qwti8lfbpb',\n",
       "  'chatgpt'],\n",
       " ['mecolehardman4', 'chat', 'gpt', 'says', 'it’s', '15', '😂']]"
      ]
     },
     "execution_count": 7,
     "metadata": {},
     "output_type": "execute_result"
    }
   ],
   "source": [
    "# Demos un vistazo\n",
    "sentence_tokens[:2]"
   ]
  },
  {
   "attachments": {},
   "cell_type": "markdown",
   "metadata": {
    "id": "BaXV6nlHr5Aa"
   },
   "source": [
    "### 2 - Crear los vectores (word2vec)"
   ]
  },
  {
   "cell_type": "code",
   "execution_count": 8,
   "metadata": {
    "id": "OSb0v7h8r7hK"
   },
   "outputs": [],
   "source": [
    "from gensim.models.callbacks import CallbackAny2Vec\n",
    "# Durante el entrenamiento gensim por defecto no informa el \"loss\" en cada época\n",
    "# Sobrecargamos el callback para poder tener esta información\n",
    "class callback(CallbackAny2Vec):\n",
    "    \"\"\"\n",
    "    Callback to print loss after each epoch\n",
    "    \"\"\"\n",
    "    def __init__(self):\n",
    "        self.epoch = 0\n",
    "\n",
    "    def on_epoch_end(self, model):\n",
    "        loss = model.get_latest_training_loss()\n",
    "        if self.epoch == 0:\n",
    "            print('Loss after epoch {}: {}'.format(self.epoch, loss))\n",
    "        else:\n",
    "            print('Loss after epoch {}: {}'.format(self.epoch, loss- self.loss_previous_step))\n",
    "        self.epoch += 1\n",
    "        self.loss_previous_step = loss"
   ]
  },
  {
   "cell_type": "code",
   "execution_count": 9,
   "metadata": {
    "id": "i0wnDdv9sJ47"
   },
   "outputs": [],
   "source": [
    "# Crearmos el modelo generador de vectores\n",
    "# En este caso utilizaremos la estructura modelo Skipgram\n",
    "w2v_model = Word2Vec(min_count=5,    # frecuencia mínima de palabra para incluirla en el vocabulario\n",
    "                     window=2,       # cant de palabras antes y desp de la predicha\n",
    "                     vector_size=300,       # dimensionalidad de los vectores \n",
    "                     negative=20,    # cantidad de negative samples... 0 es no se usa\n",
    "                     workers=1,      # si tienen más cores pueden cambiar este valor\n",
    "                     sg=1)           # modelo 0:CBOW  1:skipgram"
   ]
  },
  {
   "cell_type": "code",
   "execution_count": 10,
   "metadata": {
    "id": "5lTt8wErsf17"
   },
   "outputs": [],
   "source": [
    "# Obtener el vocabulario con los tokens\n",
    "w2v_model.build_vocab(sentence_tokens)"
   ]
  },
  {
   "cell_type": "code",
   "execution_count": 11,
   "metadata": {
    "id": "TNc9qt4os5AT"
   },
   "outputs": [
    {
     "name": "stdout",
     "output_type": "stream",
     "text": [
      "Cantidad de docs en el corpus: 50000\n"
     ]
    }
   ],
   "source": [
    "# Cantidad de filas/docs encontradas en el corpus\n",
    "print(\"Cantidad de docs en el corpus:\", w2v_model.corpus_count)"
   ]
  },
  {
   "cell_type": "code",
   "execution_count": 12,
   "metadata": {
    "id": "idw9cHF3tSMl"
   },
   "outputs": [
    {
     "name": "stdout",
     "output_type": "stream",
     "text": [
      "Cantidad de words distintas en el corpus: 12547\n"
     ]
    }
   ],
   "source": [
    "# Cantidad de words encontradas en el corpus\n",
    "print(\"Cantidad de words distintas en el corpus:\", len(w2v_model.wv))"
   ]
  },
  {
   "attachments": {},
   "cell_type": "markdown",
   "metadata": {
    "id": "fC9mZ8DPk-UC"
   },
   "source": [
    "### 3 - Entrenar el modelo generador"
   ]
  },
  {
   "cell_type": "code",
   "execution_count": 13,
   "metadata": {
    "id": "QSp-x0PAsq56"
   },
   "outputs": [
    {
     "name": "stdout",
     "output_type": "stream",
     "text": [
      "Loss after epoch 0: 8630206.0\n",
      "Loss after epoch 1: 6662314.0\n",
      "Loss after epoch 2: 6316478.0\n",
      "Loss after epoch 3: 6114000.0\n",
      "Loss after epoch 4: 5995726.0\n",
      "Loss after epoch 5: 6165832.0\n",
      "Loss after epoch 6: 6015544.0\n",
      "Loss after epoch 7: 5865736.0\n",
      "Loss after epoch 8: 5753028.0\n",
      "Loss after epoch 9: 5646580.0\n",
      "Loss after epoch 10: 4302924.0\n",
      "Loss after epoch 11: 1244192.0\n",
      "Loss after epoch 12: 1211424.0\n",
      "Loss after epoch 13: 1182408.0\n",
      "Loss after epoch 14: 1146384.0\n",
      "Loss after epoch 15: 1110408.0\n",
      "Loss after epoch 16: 1078536.0\n",
      "Loss after epoch 17: 1051728.0\n",
      "Loss after epoch 18: 1023288.0\n",
      "Loss after epoch 19: 1005120.0\n"
     ]
    },
    {
     "data": {
      "text/plain": [
       "(18978597, 27968460)"
      ]
     },
     "execution_count": 13,
     "metadata": {},
     "output_type": "execute_result"
    }
   ],
   "source": [
    "# Entrenamos el modelo generador de vectores\n",
    "# Utilizamos nuestro callback\n",
    "w2v_model.train(sentence_tokens,\n",
    "                 total_examples=w2v_model.corpus_count,\n",
    "                 epochs=20,\n",
    "                 compute_loss = True,\n",
    "                 callbacks=[callback()]\n",
    "                 )"
   ]
  },
  {
   "attachments": {},
   "cell_type": "markdown",
   "metadata": {
    "id": "ddT9NVuNlCAe"
   },
   "source": [
    "### 4 - Ensayar"
   ]
  },
  {
   "attachments": {},
   "cell_type": "markdown",
   "metadata": {},
   "source": [
    "Se puede observar una amplia relación con términos que contienen `ai` o `chatgpt` lo cual parecen ser hashtags y tiene sentido que se relacione más con esos porque tienden a tener un patrón más repetitivo y constante entre todos los tweets."
   ]
  },
  {
   "cell_type": "code",
   "execution_count": 44,
   "metadata": {
    "id": "6cHN9xGLuPEm"
   },
   "outputs": [
    {
     "data": {
      "text/plain": [
       "[('chatseks', 0.5559192895889282),\n",
       " ('chatgpttips', 0.5432297587394714),\n",
       " ('qrrlawtahq', 0.5397505164146423),\n",
       " ('apiplugins', 0.5388360619544983),\n",
       " ('aifun', 0.5370955467224121),\n",
       " ('chatgptで自然言語処理は終わるのか', 0.5364270806312561),\n",
       " ('chatgpthistory', 0.5348231196403503),\n",
       " ('aidevelopment', 0.5343958139419556),\n",
       " ('artificialintelliegence', 0.5299673080444336),\n",
       " ('aiml', 0.5224437117576599),\n",
       " ('aistory', 0.5204507112503052),\n",
       " ('mashable', 0.5199013352394104),\n",
       " ('gpt4api', 0.5186032056808472),\n",
       " ('aigirls', 0.5145024657249451),\n",
       " ('aiintegration', 0.5134172439575195),\n",
       " ('futureofai', 0.5109358429908752),\n",
       " ('aichatgpt', 0.5102940201759338),\n",
       " ('aiassistance', 0.5063930153846741),\n",
       " ('gpt4ai', 0.5061375498771667),\n",
       " ('aiphoto', 0.5046650171279907)]"
      ]
     },
     "execution_count": 44,
     "metadata": {},
     "output_type": "execute_result"
    }
   ],
   "source": [
    "# Palabras que MÁS se relacionan con...:\n",
    "w2v_model.wv.most_similar(positive=[\"chatgpt\"], topn=20)"
   ]
  },
  {
   "attachments": {},
   "cell_type": "markdown",
   "metadata": {},
   "source": [
    "`speed` parece estar más relacionado con `wind`, `km`, `humidity` y algunos números que pueden ser velocidades. Lo cual tiene sentido porque se habla más del clima para esta palabra."
   ]
  },
  {
   "cell_type": "code",
   "execution_count": 50,
   "metadata": {},
   "outputs": [
    {
     "data": {
      "text/plain": [
       "[('wind', 0.5097934007644653),\n",
       " ('km', 0.5032691955566406),\n",
       " ('humidity', 0.45694801211357117),\n",
       " ('504', 0.4532863199710846),\n",
       " ('544', 0.451589971780777)]"
      ]
     },
     "execution_count": 50,
     "metadata": {},
     "output_type": "execute_result"
    }
   ],
   "source": [
    "# Palabras que MENOS se relacionan con...:\n",
    "w2v_model.wv.most_similar(positive=[\"speed\"], topn=5)"
   ]
  },
  {
   "attachments": {},
   "cell_type": "markdown",
   "metadata": {},
   "source": [
    "Aca podemos observar los terminos menos relacionados con la palabra `speed`, lo cual parece tener sentido"
   ]
  },
  {
   "cell_type": "code",
   "execution_count": 43,
   "metadata": {
    "id": "47HiU5gdkdMq"
   },
   "outputs": [
    {
     "data": {
      "text/plain": [
       "[('japan', 0.04537958651781082),\n",
       " ('aware', 0.03814034163951874),\n",
       " ('writers', 0.03685425966978073),\n",
       " ('friends', 0.030309956520795822),\n",
       " ('korean', 0.02764664590358734)]"
      ]
     },
     "execution_count": 43,
     "metadata": {},
     "output_type": "execute_result"
    }
   ],
   "source": [
    "# Palabras que MENOS se relacionan con...:\n",
    "w2v_model.wv.most_similar(negative=[\"speed\"], topn=5)"
   ]
  },
  {
   "attachments": {},
   "cell_type": "markdown",
   "metadata": {},
   "source": [
    "Para un conjunto de palabras, white collar jobs parece estar más relacionado a términos como `underpaid`, `300mn` (la estimación de puestos de trabajo en riesgo con ChatGPT), `greenhouse` (menos empleos de este tipo traería menos conmutación hacia las oficinas, por lo tanto menos contaminación), `salaries`"
   ]
  },
  {
   "cell_type": "code",
   "execution_count": 40,
   "metadata": {
    "id": "DT4Rvno2mD65"
   },
   "outputs": [
    {
     "data": {
      "text/plain": [
       "[('underpaid', 0.6077852249145508),\n",
       " ('greenhouse', 0.5809414386749268),\n",
       " ('300mn', 0.571147084236145),\n",
       " ('salaries', 0.55662602186203),\n",
       " ('occupations', 0.5488776564598083),\n",
       " ('undergraduate', 0.5418506860733032),\n",
       " ('🇪🇺', 0.5381378531455994),\n",
       " ('icims', 0.5370402336120605),\n",
       " ('recruiting', 0.5340006947517395),\n",
       " ('thirds', 0.5262135863304138)]"
      ]
     },
     "execution_count": 40,
     "metadata": {},
     "output_type": "execute_result"
    }
   ],
   "source": [
    "# Palabras que MÁS se relacionan con...:\n",
    "w2v_model.wv.most_similar(positive=[\"white\", \"collar\", \"jobs\"], topn=10)"
   ]
  },
  {
   "attachments": {},
   "cell_type": "markdown",
   "metadata": {},
   "source": [
    "Hablando de beneficios, aca podemos observar que la palabra `automate` se relaciona más con `delegate` y `streamline` que son términos muy comunes cuando se habla de ChatGPT."
   ]
  },
  {
   "cell_type": "code",
   "execution_count": 32,
   "metadata": {
    "id": "XPLDPgzBmQXt"
   },
   "outputs": [
    {
     "data": {
      "text/plain": [
       "[('delegate', 0.5287847518920898),\n",
       " ('streamline', 0.5150728821754456),\n",
       " ('personalize', 0.5128810405731201),\n",
       " ('simplify', 0.4986609220504761),\n",
       " ('tailor', 0.48611804842948914)]"
      ]
     },
     "execution_count": 32,
     "metadata": {},
     "output_type": "execute_result"
    }
   ],
   "source": [
    "# Palabras que MÁS se relacionan con...:\n",
    "w2v_model.wv.most_similar(positive=[\"automate\"], topn=5)"
   ]
  },
  {
   "attachments": {},
   "cell_type": "markdown",
   "metadata": {},
   "source": [
    "Para una palabra inexistente el código falla"
   ]
  },
  {
   "cell_type": "code",
   "execution_count": 19,
   "metadata": {
    "id": "L_UvHPMMklOr"
   },
   "outputs": [
    {
     "ename": "KeyError",
     "evalue": "\"Key 'diedaa' not present in vocabulary\"",
     "output_type": "error",
     "traceback": [
      "\u001b[1;31m---------------------------------------------------------------------------\u001b[0m",
      "\u001b[1;31mKeyError\u001b[0m                                  Traceback (most recent call last)",
      "Cell \u001b[1;32mIn[19], line 2\u001b[0m\n\u001b[0;32m      1\u001b[0m \u001b[39m# Ensayar con una palabra que no está en el vocabulario:\u001b[39;00m\n\u001b[1;32m----> 2\u001b[0m w2v_model\u001b[39m.\u001b[39;49mwv\u001b[39m.\u001b[39;49mmost_similar(negative\u001b[39m=\u001b[39;49m[\u001b[39m\"\u001b[39;49m\u001b[39mdiedaa\u001b[39;49m\u001b[39m\"\u001b[39;49m])\n",
      "File \u001b[1;32mc:\\Users\\jonat\\anaconda3\\envs\\nlp\\Lib\\site-packages\\gensim\\models\\keyedvectors.py:841\u001b[0m, in \u001b[0;36mKeyedVectors.most_similar\u001b[1;34m(self, positive, negative, topn, clip_start, clip_end, restrict_vocab, indexer)\u001b[0m\n\u001b[0;32m    838\u001b[0m         weight[idx] \u001b[39m=\u001b[39m item[\u001b[39m1\u001b[39m]\n\u001b[0;32m    840\u001b[0m \u001b[39m# compute the weighted average of all keys\u001b[39;00m\n\u001b[1;32m--> 841\u001b[0m mean \u001b[39m=\u001b[39m \u001b[39mself\u001b[39;49m\u001b[39m.\u001b[39;49mget_mean_vector(keys, weight, pre_normalize\u001b[39m=\u001b[39;49m\u001b[39mTrue\u001b[39;49;00m, post_normalize\u001b[39m=\u001b[39;49m\u001b[39mTrue\u001b[39;49;00m, ignore_missing\u001b[39m=\u001b[39;49m\u001b[39mFalse\u001b[39;49;00m)\n\u001b[0;32m    842\u001b[0m all_keys \u001b[39m=\u001b[39m [\n\u001b[0;32m    843\u001b[0m     \u001b[39mself\u001b[39m\u001b[39m.\u001b[39mget_index(key) \u001b[39mfor\u001b[39;00m key \u001b[39min\u001b[39;00m keys \u001b[39mif\u001b[39;00m \u001b[39misinstance\u001b[39m(key, _KEY_TYPES) \u001b[39mand\u001b[39;00m \u001b[39mself\u001b[39m\u001b[39m.\u001b[39mhas_index_for(key)\n\u001b[0;32m    844\u001b[0m ]\n\u001b[0;32m    846\u001b[0m \u001b[39mif\u001b[39;00m indexer \u001b[39mis\u001b[39;00m \u001b[39mnot\u001b[39;00m \u001b[39mNone\u001b[39;00m \u001b[39mand\u001b[39;00m \u001b[39misinstance\u001b[39m(topn, \u001b[39mint\u001b[39m):\n",
      "File \u001b[1;32mc:\\Users\\jonat\\anaconda3\\envs\\nlp\\Lib\\site-packages\\gensim\\models\\keyedvectors.py:518\u001b[0m, in \u001b[0;36mKeyedVectors.get_mean_vector\u001b[1;34m(self, keys, weights, pre_normalize, post_normalize, ignore_missing)\u001b[0m\n\u001b[0;32m    516\u001b[0m         total_weight \u001b[39m+\u001b[39m\u001b[39m=\u001b[39m \u001b[39mabs\u001b[39m(weights[idx])\n\u001b[0;32m    517\u001b[0m     \u001b[39melif\u001b[39;00m \u001b[39mnot\u001b[39;00m ignore_missing:\n\u001b[1;32m--> 518\u001b[0m         \u001b[39mraise\u001b[39;00m \u001b[39mKeyError\u001b[39;00m(\u001b[39mf\u001b[39m\u001b[39m\"\u001b[39m\u001b[39mKey \u001b[39m\u001b[39m'\u001b[39m\u001b[39m{\u001b[39;00mkey\u001b[39m}\u001b[39;00m\u001b[39m'\u001b[39m\u001b[39m not present in vocabulary\u001b[39m\u001b[39m\"\u001b[39m)\n\u001b[0;32m    520\u001b[0m \u001b[39mif\u001b[39;00m total_weight \u001b[39m>\u001b[39m \u001b[39m0\u001b[39m:\n\u001b[0;32m    521\u001b[0m     mean \u001b[39m=\u001b[39m mean \u001b[39m/\u001b[39m total_weight\n",
      "\u001b[1;31mKeyError\u001b[0m: \"Key 'diedaa' not present in vocabulary\""
     ]
    }
   ],
   "source": [
    "# Ensayar con una palabra que no está en el vocabulario:\n",
    "w2v_model.wv.most_similar(negative=[\"diedaa\"])"
   ]
  },
  {
   "attachments": {},
   "cell_type": "markdown",
   "metadata": {
    "id": "_g8UVWe6lFmh"
   },
   "source": [
    "### 5 - Visualizar agrupación de vectores"
   ]
  },
  {
   "cell_type": "code",
   "execution_count": 45,
   "metadata": {
    "id": "pDxEVXAivjr9"
   },
   "outputs": [],
   "source": [
    "from sklearn.decomposition import IncrementalPCA    \n",
    "from sklearn.manifold import TSNE                   \n",
    "import numpy as np                                  \n",
    "\n",
    "def reduce_dimensions(model):\n",
    "    num_dimensions = 2\n",
    "\n",
    "    vectors = np.asarray(model.wv.vectors)\n",
    "    labels = np.asarray(model.wv.index_to_key)\n",
    "\n",
    "    tsne = TSNE(n_components=num_dimensions, random_state=0)\n",
    "    vectors = tsne.fit_transform(vectors)\n",
    "\n",
    "    x_vals = [v[0] for v in vectors]\n",
    "    y_vals = [v[1] for v in vectors]\n",
    "    return x_vals, y_vals, labels"
   ]
  },
  {
   "cell_type": "code",
   "execution_count": 46,
   "metadata": {},
   "outputs": [],
   "source": [
    "# ! pip install plotly\n",
    "# ! pip install --upgrade nbformat"
   ]
  },
  {
   "cell_type": "code",
   "execution_count": 47,
   "metadata": {
    "id": "NCCXtDpcugmd"
   },
   "outputs": [
    {
     "data": {
      "application/vnd.plotly.v1+json": {
       "config": {
        "plotlyServerURL": "https://plot.ly"
       },
       "data": [
        {
         "hovertemplate": "x=%{x}<br>y=%{y}<br>text=%{text}<extra></extra>",
         "legendgroup": "",
         "marker": {
          "color": "#636efa",
          "symbol": "circle"
         },
         "mode": "markers+text",
         "name": "",
         "orientation": "v",
         "showlegend": false,
         "text": [
          "chatgpt",
          "the",
          "co",
          "t",
          "https",
          "to",
          "and",
          "a",
          "gpt",
          "ai",
          "of",
          "chat",
          "is",
          "it",
          "for",
          "in",
          "i",
          "you",
          "with",
          "on",
          "that",
          "this",
          "openai",
          "can",
          "are",
          "be",
          "your",
          "how",
          "will",
          "what",
          "about",
          "4",
          "gpt4",
          "by",
          "my",
          "as",
          "have",
          "but",
          "like",
          "not",
          "more",
          "from",
          "an",
          "we",
          "just",
          "me",
          "use",
          "or",
          "do",
          "now",
          "if",
          "has",
          "at",
          "out",
          "new",
          "so",
          "all",
          "was",
          "using",
          "amp",
          "our",
          "its",
          "up",
          "it's",
          "google",
          "get",
          "artificialintelligence",
          "time",
          "3",
          "technology",
          "some",
          "here",
          "they",
          "one",
          "when",
          "asked",
          "write",
          "know",
          "make",
          "no",
          "world",
          "bard",
          "could",
          "1",
          "their",
          "5",
          "think",
          "than",
          "future",
          "into",
          "people",
          "ask",
          "data",
          "code",
          "help",
          "would",
          "tech",
          "see",
          "read",
          "plugins",
          "been",
          "2",
          "language",
          "there",
          "work",
          "even",
          "better",
          "good",
          "chatgpt4",
          "need",
          "us",
          "intelligence",
          "who",
          "way",
          "midjourney",
          "microsoft",
          "bing",
          "tools",
          "content",
          "then",
          "used",
          "any",
          "create",
          "human",
          "via",
          "take",
          "which",
          "👉",
          "crypto",
          "business",
          "chatbot",
          "learn",
          "other",
          "why",
          "👇",
          "should",
          "elonmusk",
          "also",
          "i'm",
          "artificial",
          "only",
          "don't",
          "most",
          "first",
          "prompt",
          "check",
          "model",
          "these",
          "writing",
          "best",
          "am",
          "want",
          "them",
          "prompts",
          "right",
          "it’s",
          "really",
          "tool",
          "answer",
          "going",
          "access",
          "did",
          "over",
          "news",
          "today",
          "generativeai",
          "too",
          "free",
          "had",
          "still",
          "own",
          "questions",
          "much",
          "next",
          "long",
          "does",
          "life",
          "powered",
          "real",
          "very",
          "great",
          "based",
          "got",
          "last",
          "well",
          "search",
          "app",
          "productivity",
          "learning",
          "information",
          "things",
          "before",
          "text",
          "day",
          "gt",
          "made",
          "may",
          "2023",
          "many",
          "potential"
         ],
         "type": "scatter",
         "x": [
          6.405363082885742,
          -14.225481033325195,
          34.6041259765625,
          34.59967803955078,
          34.601566314697266,
          -31.112136840820312,
          -29.5390567779541,
          -10.775895118713379,
          -21.590023040771484,
          9.405917167663574,
          12.165410041809082,
          -21.940610885620117,
          -20.013296127319336,
          -32.16514587402344,
          -11.30705451965332,
          -5.7867655754089355,
          -28.361242294311523,
          -33.410152435302734,
          -47.45310974121094,
          0.11465909332036972,
          -29.485563278198242,
          -17.22429847717285,
          36.85490036010742,
          -33.66641616821289,
          -52.084293365478516,
          -37.174842834472656,
          -3.5650174617767334,
          -30.810466766357422,
          -31.627836227416992,
          -29.899248123168945,
          -3.025035858154297,
          -14.231620788574219,
          37.87186813354492,
          17.431476593017578,
          -11.580303192138672,
          -24.139421463012695,
          -43.076385498046875,
          -24.14646339416504,
          -18.167930603027344,
          -18.310482025146484,
          -26.082120895385742,
          -14.163226127624512,
          -19.712434768676758,
          -31.30396842956543,
          -27.704801559448242,
          -31.858613967895508,
          -36.29259490966797,
          -30.120107650756836,
          -30.53264045715332,
          -21.12782859802246,
          -25.351560592651367,
          -44.01786804199219,
          -10.895069122314453,
          -13.485828399658203,
          5.951236724853516,
          -27.233041763305664,
          -17.086111068725586,
          -44.494293212890625,
          -22.965167999267578,
          28.380966186523438,
          12.930553436279297,
          -9.635824203491211,
          -34.88124084472656,
          -27.785398483276367,
          15.484517097473145,
          -40.86906051635742,
          32.9334831237793,
          -17.693674087524414,
          -2.285818338394165,
          9.32709789276123,
          -21.461711883544922,
          17.911026000976562,
          -32.955841064453125,
          -25.916400909423828,
          -27.473615646362305,
          -35.622833251953125,
          -32.30843734741211,
          -29.390987396240234,
          -33.09402084350586,
          -23.53275489807129,
          2.6052424907684326,
          15.782134056091309,
          -31.473474502563477,
          24.605621337890625,
          -30.93913459777832,
          -2.2776498794555664,
          -30.535816192626953,
          -29.4281063079834,
          14.267991065979004,
          -6.288212776184082,
          -10.615979194641113,
          -35.676395416259766,
          12.741781234741211,
          -23.774625778198242,
          -30.930042266845703,
          -35.27271270751953,
          30.546194076538086,
          -24.601621627807617,
          -35.2032585144043,
          4.8476338386535645,
          -42.09686279296875,
          24.6988525390625,
          -26.021650314331055,
          -26.181381225585938,
          -15.281497955322266,
          -34.60137176513672,
          -30.5927677154541,
          -26.419116973876953,
          37.616519927978516,
          -27.400068283081055,
          17.5234375,
          30.75356101989746,
          -25.301773071289062,
          -13.406723976135254,
          40.944854736328125,
          18.73785972595215,
          17.613191604614258,
          8.26237964630127,
          21.814449310302734,
          -27.982864379882812,
          -35.480918884277344,
          -26.61275863647461,
          -31.593473434448242,
          -29.488475799560547,
          18.53898811340332,
          -30.958574295043945,
          -22.609399795532227,
          58.62337875366211,
          49.55402374267578,
          28.635953903198242,
          28.268505096435547,
          -11.553841590881348,
          -20.64678192138672,
          -28.230566024780273,
          25.550386428833008,
          -35.36835861206055,
          10.228394508361816,
          -25.22539710998535,
          -34.64743423461914,
          30.756465911865234,
          -18.94688606262207,
          -32.722084045410156,
          -49.805946350097656,
          -11.21064281463623,
          -22.179643630981445,
          -11.45323371887207,
          -11.972949028015137,
          -12.420157432556152,
          -4.630992412567139,
          -49.55689239501953,
          -34.28984451293945,
          -33.303077697753906,
          -31.32284927368164,
          -27.977615356445312,
          -21.17900848388672,
          -24.716262817382812,
          -26.124662399291992,
          -14.193474769592285,
          -19.892047882080078,
          -36.06929397583008,
          -16.721487045288086,
          -35.62442398071289,
          -21.02276039123535,
          7.424721717834473,
          -2.700709104537964,
          36.39555740356445,
          -23.037866592407227,
          16.190839767456055,
          -44.18803024291992,
          -26.659645080566406,
          -3.846510887145996,
          -40.91808319091797,
          -27.518312454223633,
          -34.257869720458984,
          37.073638916015625,
          -28.96666717529297,
          -9.590495109558105,
          61.45273208618164,
          -18.1591796875,
          -22.84109115600586,
          -20.193206787109375,
          -21.018701553344727,
          -37.02360534667969,
          35.54070281982422,
          -32.25947952270508,
          -27.91987419128418,
          7.284468173980713,
          25.306854248046875,
          5.478503227233887,
          -24.291576385498047,
          -35.5036506652832,
          -24.253520965576172,
          -23.99471092224121,
          6.917817115783691,
          33.88204574584961,
          -45.03887176513672,
          -30.653522491455078,
          25.380002975463867,
          -25.15477752685547,
          -0.3760267496109009
         ],
         "xaxis": "x",
         "y": [
          24.169635772705078,
          6.56628942489624,
          10.566192626953125,
          10.565685272216797,
          10.56581974029541,
          -0.2475806474685669,
          33.69702911376953,
          -13.267547607421875,
          -13.572408676147461,
          18.045032501220703,
          2.6919901371002197,
          -13.586158752441406,
          -11.992445945739746,
          -17.923843383789062,
          -33.23326873779297,
          -7.758411407470703,
          -15.903339385986328,
          -16.507291793823242,
          10.120919227600098,
          -22.021730422973633,
          -10.121026039123535,
          -12.402548789978027,
          24.130483627319336,
          0.711359977722168,
          -16.463666915893555,
          5.465198040008545,
          15.68427562713623,
          -13.505008697509766,
          -0.5882197618484497,
          -13.59703254699707,
          -37.72999954223633,
          37.542198181152344,
          24.083127975463867,
          -5.882755756378174,
          -11.162374496459961,
          0.2788965404033661,
          -23.334985733032227,
          -22.01451301574707,
          -12.556306838989258,
          -19.005550384521484,
          -40.217193603515625,
          6.879333972930908,
          -11.314496040344238,
          -2.2714481353759766,
          -14.057965278625488,
          -16.8937931060791,
          3.36401104927063,
          8.154708862304688,
          -10.707072257995605,
          -22.724079132080078,
          -16.217164993286133,
          -25.442228317260742,
          -8.796443939208984,
          -16.11094093322754,
          26.172510147094727,
          -23.255878448486328,
          -4.0745673179626465,
          -24.547433853149414,
          -9.599115371704102,
          2.811447858810425,
          6.495035648345947,
          40.193580627441406,
          -24.525529861450195,
          -19.86606788635254,
          30.151880264282227,
          18.011167526245117,
          28.043405532836914,
          -0.34206077456474304,
          50.0816650390625,
          31.03156089782715,
          12.00112533569336,
          10.440537452697754,
          0.15270259976387024,
          0.6853539943695068,
          -16.315027236938477,
          -12.06921100616455,
          18.01724624633789,
          -9.41493034362793,
          9.895919799804688,
          -2.170506238937378,
          14.681896209716797,
          31.75129508972168,
          -0.7526400089263916,
          -26.285486221313477,
          9.359123229980469,
          50.1032600402832,
          -11.164566040039062,
          -5.092040538787842,
          -0.3324434161186218,
          4.38201379776001,
          -18.729543685913086,
          -12.742066383361816,
          19.63301658630371,
          27.314987182617188,
          9.434136390686035,
          -15.766183853149414,
          26.807437896728516,
          -7.530218124389648,
          3.35557222366333,
          31.88461685180664,
          -24.63821792602539,
          -26.23833656311035,
          5.407318115234375,
          -6.48768949508667,
          2.518702507019043,
          -12.460131645202637,
          -38.644771575927734,
          -23.80508804321289,
          25.958189010620117,
          -6.491079330444336,
          -0.9427979588508606,
          4.057459354400635,
          -9.048284530639648,
          -8.630702018737793,
          17.186431884765625,
          31.696754455566406,
          31.682979583740234,
          19.130672454833984,
          19.242313385009766,
          -7.417027950286865,
          -11.075276374816895,
          6.307073593139648,
          17.64481544494629,
          -35.718727111816406,
          35.52908706665039,
          7.154270648956299,
          -2.235806703567505,
          5.288570404052734,
          10.77141284942627,
          22.190589904785156,
          26.906490325927734,
          13.882161140441895,
          -3.019111394882202,
          -13.022065162658691,
          20.406911849975586,
          -18.78213882446289,
          -35.782691955566406,
          -12.465108871459961,
          -26.116567611694336,
          4.057292938232422,
          -10.31863784790039,
          -14.512260437011719,
          -19.388652801513672,
          -12.386595726013184,
          30.524768829345703,
          -49.35332489013672,
          44.64802551269531,
          -17.102354049682617,
          -11.422367095947266,
          -19.551925659179688,
          -26.09409523010254,
          -15.398336410522461,
          15.109185218811035,
          12.071128845214844,
          -17.69496726989746,
          -26.524511337280273,
          -17.999462127685547,
          -13.447720527648926,
          5.948345184326172,
          -23.443395614624023,
          32.176883697509766,
          -14.19472885131836,
          -4.202521324157715,
          30.752405166625977,
          -29.776844024658203,
          11.530730247497559,
          -24.806705474853516,
          -4.241575241088867,
          -22.848155975341797,
          -19.0823917388916,
          27.5833740234375,
          -2.0249292850494385,
          -33.66582489013672,
          31.23411750793457,
          -26.077613830566406,
          -12.395119667053223,
          -10.470939636230469,
          21.434978485107422,
          -7.268479347229004,
          -25.19367027282715,
          -29.942243576049805,
          35.51575469970703,
          -4.132325649261475,
          -26.180688858032227,
          -7.902044296264648,
          27.036100387573242,
          37.737831115722656,
          17.23667335510254,
          20.931066513061523,
          6.231726169586182,
          -18.158090591430664,
          -13.891096115112305,
          24.561552047729492,
          -1.8281022310256958,
          13.300145149230957,
          -0.7258984446525574,
          -4.300534725189209,
          -20.538227081298828,
          2.6466736793518066,
          13.680163383483887
         ],
         "yaxis": "y"
        }
       ],
       "layout": {
        "legend": {
         "tracegroupgap": 0
        },
        "margin": {
         "t": 60
        },
        "template": {
         "data": {
          "bar": [
           {
            "error_x": {
             "color": "#2a3f5f"
            },
            "error_y": {
             "color": "#2a3f5f"
            },
            "marker": {
             "line": {
              "color": "#E5ECF6",
              "width": 0.5
             },
             "pattern": {
              "fillmode": "overlay",
              "size": 10,
              "solidity": 0.2
             }
            },
            "type": "bar"
           }
          ],
          "barpolar": [
           {
            "marker": {
             "line": {
              "color": "#E5ECF6",
              "width": 0.5
             },
             "pattern": {
              "fillmode": "overlay",
              "size": 10,
              "solidity": 0.2
             }
            },
            "type": "barpolar"
           }
          ],
          "carpet": [
           {
            "aaxis": {
             "endlinecolor": "#2a3f5f",
             "gridcolor": "white",
             "linecolor": "white",
             "minorgridcolor": "white",
             "startlinecolor": "#2a3f5f"
            },
            "baxis": {
             "endlinecolor": "#2a3f5f",
             "gridcolor": "white",
             "linecolor": "white",
             "minorgridcolor": "white",
             "startlinecolor": "#2a3f5f"
            },
            "type": "carpet"
           }
          ],
          "choropleth": [
           {
            "colorbar": {
             "outlinewidth": 0,
             "ticks": ""
            },
            "type": "choropleth"
           }
          ],
          "contour": [
           {
            "colorbar": {
             "outlinewidth": 0,
             "ticks": ""
            },
            "colorscale": [
             [
              0,
              "#0d0887"
             ],
             [
              0.1111111111111111,
              "#46039f"
             ],
             [
              0.2222222222222222,
              "#7201a8"
             ],
             [
              0.3333333333333333,
              "#9c179e"
             ],
             [
              0.4444444444444444,
              "#bd3786"
             ],
             [
              0.5555555555555556,
              "#d8576b"
             ],
             [
              0.6666666666666666,
              "#ed7953"
             ],
             [
              0.7777777777777778,
              "#fb9f3a"
             ],
             [
              0.8888888888888888,
              "#fdca26"
             ],
             [
              1,
              "#f0f921"
             ]
            ],
            "type": "contour"
           }
          ],
          "contourcarpet": [
           {
            "colorbar": {
             "outlinewidth": 0,
             "ticks": ""
            },
            "type": "contourcarpet"
           }
          ],
          "heatmap": [
           {
            "colorbar": {
             "outlinewidth": 0,
             "ticks": ""
            },
            "colorscale": [
             [
              0,
              "#0d0887"
             ],
             [
              0.1111111111111111,
              "#46039f"
             ],
             [
              0.2222222222222222,
              "#7201a8"
             ],
             [
              0.3333333333333333,
              "#9c179e"
             ],
             [
              0.4444444444444444,
              "#bd3786"
             ],
             [
              0.5555555555555556,
              "#d8576b"
             ],
             [
              0.6666666666666666,
              "#ed7953"
             ],
             [
              0.7777777777777778,
              "#fb9f3a"
             ],
             [
              0.8888888888888888,
              "#fdca26"
             ],
             [
              1,
              "#f0f921"
             ]
            ],
            "type": "heatmap"
           }
          ],
          "heatmapgl": [
           {
            "colorbar": {
             "outlinewidth": 0,
             "ticks": ""
            },
            "colorscale": [
             [
              0,
              "#0d0887"
             ],
             [
              0.1111111111111111,
              "#46039f"
             ],
             [
              0.2222222222222222,
              "#7201a8"
             ],
             [
              0.3333333333333333,
              "#9c179e"
             ],
             [
              0.4444444444444444,
              "#bd3786"
             ],
             [
              0.5555555555555556,
              "#d8576b"
             ],
             [
              0.6666666666666666,
              "#ed7953"
             ],
             [
              0.7777777777777778,
              "#fb9f3a"
             ],
             [
              0.8888888888888888,
              "#fdca26"
             ],
             [
              1,
              "#f0f921"
             ]
            ],
            "type": "heatmapgl"
           }
          ],
          "histogram": [
           {
            "marker": {
             "pattern": {
              "fillmode": "overlay",
              "size": 10,
              "solidity": 0.2
             }
            },
            "type": "histogram"
           }
          ],
          "histogram2d": [
           {
            "colorbar": {
             "outlinewidth": 0,
             "ticks": ""
            },
            "colorscale": [
             [
              0,
              "#0d0887"
             ],
             [
              0.1111111111111111,
              "#46039f"
             ],
             [
              0.2222222222222222,
              "#7201a8"
             ],
             [
              0.3333333333333333,
              "#9c179e"
             ],
             [
              0.4444444444444444,
              "#bd3786"
             ],
             [
              0.5555555555555556,
              "#d8576b"
             ],
             [
              0.6666666666666666,
              "#ed7953"
             ],
             [
              0.7777777777777778,
              "#fb9f3a"
             ],
             [
              0.8888888888888888,
              "#fdca26"
             ],
             [
              1,
              "#f0f921"
             ]
            ],
            "type": "histogram2d"
           }
          ],
          "histogram2dcontour": [
           {
            "colorbar": {
             "outlinewidth": 0,
             "ticks": ""
            },
            "colorscale": [
             [
              0,
              "#0d0887"
             ],
             [
              0.1111111111111111,
              "#46039f"
             ],
             [
              0.2222222222222222,
              "#7201a8"
             ],
             [
              0.3333333333333333,
              "#9c179e"
             ],
             [
              0.4444444444444444,
              "#bd3786"
             ],
             [
              0.5555555555555556,
              "#d8576b"
             ],
             [
              0.6666666666666666,
              "#ed7953"
             ],
             [
              0.7777777777777778,
              "#fb9f3a"
             ],
             [
              0.8888888888888888,
              "#fdca26"
             ],
             [
              1,
              "#f0f921"
             ]
            ],
            "type": "histogram2dcontour"
           }
          ],
          "mesh3d": [
           {
            "colorbar": {
             "outlinewidth": 0,
             "ticks": ""
            },
            "type": "mesh3d"
           }
          ],
          "parcoords": [
           {
            "line": {
             "colorbar": {
              "outlinewidth": 0,
              "ticks": ""
             }
            },
            "type": "parcoords"
           }
          ],
          "pie": [
           {
            "automargin": true,
            "type": "pie"
           }
          ],
          "scatter": [
           {
            "fillpattern": {
             "fillmode": "overlay",
             "size": 10,
             "solidity": 0.2
            },
            "type": "scatter"
           }
          ],
          "scatter3d": [
           {
            "line": {
             "colorbar": {
              "outlinewidth": 0,
              "ticks": ""
             }
            },
            "marker": {
             "colorbar": {
              "outlinewidth": 0,
              "ticks": ""
             }
            },
            "type": "scatter3d"
           }
          ],
          "scattercarpet": [
           {
            "marker": {
             "colorbar": {
              "outlinewidth": 0,
              "ticks": ""
             }
            },
            "type": "scattercarpet"
           }
          ],
          "scattergeo": [
           {
            "marker": {
             "colorbar": {
              "outlinewidth": 0,
              "ticks": ""
             }
            },
            "type": "scattergeo"
           }
          ],
          "scattergl": [
           {
            "marker": {
             "colorbar": {
              "outlinewidth": 0,
              "ticks": ""
             }
            },
            "type": "scattergl"
           }
          ],
          "scattermapbox": [
           {
            "marker": {
             "colorbar": {
              "outlinewidth": 0,
              "ticks": ""
             }
            },
            "type": "scattermapbox"
           }
          ],
          "scatterpolar": [
           {
            "marker": {
             "colorbar": {
              "outlinewidth": 0,
              "ticks": ""
             }
            },
            "type": "scatterpolar"
           }
          ],
          "scatterpolargl": [
           {
            "marker": {
             "colorbar": {
              "outlinewidth": 0,
              "ticks": ""
             }
            },
            "type": "scatterpolargl"
           }
          ],
          "scatterternary": [
           {
            "marker": {
             "colorbar": {
              "outlinewidth": 0,
              "ticks": ""
             }
            },
            "type": "scatterternary"
           }
          ],
          "surface": [
           {
            "colorbar": {
             "outlinewidth": 0,
             "ticks": ""
            },
            "colorscale": [
             [
              0,
              "#0d0887"
             ],
             [
              0.1111111111111111,
              "#46039f"
             ],
             [
              0.2222222222222222,
              "#7201a8"
             ],
             [
              0.3333333333333333,
              "#9c179e"
             ],
             [
              0.4444444444444444,
              "#bd3786"
             ],
             [
              0.5555555555555556,
              "#d8576b"
             ],
             [
              0.6666666666666666,
              "#ed7953"
             ],
             [
              0.7777777777777778,
              "#fb9f3a"
             ],
             [
              0.8888888888888888,
              "#fdca26"
             ],
             [
              1,
              "#f0f921"
             ]
            ],
            "type": "surface"
           }
          ],
          "table": [
           {
            "cells": {
             "fill": {
              "color": "#EBF0F8"
             },
             "line": {
              "color": "white"
             }
            },
            "header": {
             "fill": {
              "color": "#C8D4E3"
             },
             "line": {
              "color": "white"
             }
            },
            "type": "table"
           }
          ]
         },
         "layout": {
          "annotationdefaults": {
           "arrowcolor": "#2a3f5f",
           "arrowhead": 0,
           "arrowwidth": 1
          },
          "autotypenumbers": "strict",
          "coloraxis": {
           "colorbar": {
            "outlinewidth": 0,
            "ticks": ""
           }
          },
          "colorscale": {
           "diverging": [
            [
             0,
             "#8e0152"
            ],
            [
             0.1,
             "#c51b7d"
            ],
            [
             0.2,
             "#de77ae"
            ],
            [
             0.3,
             "#f1b6da"
            ],
            [
             0.4,
             "#fde0ef"
            ],
            [
             0.5,
             "#f7f7f7"
            ],
            [
             0.6,
             "#e6f5d0"
            ],
            [
             0.7,
             "#b8e186"
            ],
            [
             0.8,
             "#7fbc41"
            ],
            [
             0.9,
             "#4d9221"
            ],
            [
             1,
             "#276419"
            ]
           ],
           "sequential": [
            [
             0,
             "#0d0887"
            ],
            [
             0.1111111111111111,
             "#46039f"
            ],
            [
             0.2222222222222222,
             "#7201a8"
            ],
            [
             0.3333333333333333,
             "#9c179e"
            ],
            [
             0.4444444444444444,
             "#bd3786"
            ],
            [
             0.5555555555555556,
             "#d8576b"
            ],
            [
             0.6666666666666666,
             "#ed7953"
            ],
            [
             0.7777777777777778,
             "#fb9f3a"
            ],
            [
             0.8888888888888888,
             "#fdca26"
            ],
            [
             1,
             "#f0f921"
            ]
           ],
           "sequentialminus": [
            [
             0,
             "#0d0887"
            ],
            [
             0.1111111111111111,
             "#46039f"
            ],
            [
             0.2222222222222222,
             "#7201a8"
            ],
            [
             0.3333333333333333,
             "#9c179e"
            ],
            [
             0.4444444444444444,
             "#bd3786"
            ],
            [
             0.5555555555555556,
             "#d8576b"
            ],
            [
             0.6666666666666666,
             "#ed7953"
            ],
            [
             0.7777777777777778,
             "#fb9f3a"
            ],
            [
             0.8888888888888888,
             "#fdca26"
            ],
            [
             1,
             "#f0f921"
            ]
           ]
          },
          "colorway": [
           "#636efa",
           "#EF553B",
           "#00cc96",
           "#ab63fa",
           "#FFA15A",
           "#19d3f3",
           "#FF6692",
           "#B6E880",
           "#FF97FF",
           "#FECB52"
          ],
          "font": {
           "color": "#2a3f5f"
          },
          "geo": {
           "bgcolor": "white",
           "lakecolor": "white",
           "landcolor": "#E5ECF6",
           "showlakes": true,
           "showland": true,
           "subunitcolor": "white"
          },
          "hoverlabel": {
           "align": "left"
          },
          "hovermode": "closest",
          "mapbox": {
           "style": "light"
          },
          "paper_bgcolor": "white",
          "plot_bgcolor": "#E5ECF6",
          "polar": {
           "angularaxis": {
            "gridcolor": "white",
            "linecolor": "white",
            "ticks": ""
           },
           "bgcolor": "#E5ECF6",
           "radialaxis": {
            "gridcolor": "white",
            "linecolor": "white",
            "ticks": ""
           }
          },
          "scene": {
           "xaxis": {
            "backgroundcolor": "#E5ECF6",
            "gridcolor": "white",
            "gridwidth": 2,
            "linecolor": "white",
            "showbackground": true,
            "ticks": "",
            "zerolinecolor": "white"
           },
           "yaxis": {
            "backgroundcolor": "#E5ECF6",
            "gridcolor": "white",
            "gridwidth": 2,
            "linecolor": "white",
            "showbackground": true,
            "ticks": "",
            "zerolinecolor": "white"
           },
           "zaxis": {
            "backgroundcolor": "#E5ECF6",
            "gridcolor": "white",
            "gridwidth": 2,
            "linecolor": "white",
            "showbackground": true,
            "ticks": "",
            "zerolinecolor": "white"
           }
          },
          "shapedefaults": {
           "line": {
            "color": "#2a3f5f"
           }
          },
          "ternary": {
           "aaxis": {
            "gridcolor": "white",
            "linecolor": "white",
            "ticks": ""
           },
           "baxis": {
            "gridcolor": "white",
            "linecolor": "white",
            "ticks": ""
           },
           "bgcolor": "#E5ECF6",
           "caxis": {
            "gridcolor": "white",
            "linecolor": "white",
            "ticks": ""
           }
          },
          "title": {
           "x": 0.05
          },
          "xaxis": {
           "automargin": true,
           "gridcolor": "white",
           "linecolor": "white",
           "ticks": "",
           "title": {
            "standoff": 15
           },
           "zerolinecolor": "white",
           "zerolinewidth": 2
          },
          "yaxis": {
           "automargin": true,
           "gridcolor": "white",
           "linecolor": "white",
           "ticks": "",
           "title": {
            "standoff": 15
           },
           "zerolinecolor": "white",
           "zerolinewidth": 2
          }
         }
        },
        "xaxis": {
         "anchor": "y",
         "domain": [
          0,
          1
         ],
         "title": {
          "text": "x"
         }
        },
        "yaxis": {
         "anchor": "x",
         "domain": [
          0,
          1
         ],
         "title": {
          "text": "y"
         }
        }
       }
      }
     },
     "metadata": {},
     "output_type": "display_data"
    }
   ],
   "source": [
    "# Graficar los embedddings en 2D\n",
    "import plotly.graph_objects as go\n",
    "import plotly.express as px\n",
    "\n",
    "x_vals, y_vals, labels = reduce_dimensions(w2v_model)\n",
    "\n",
    "MAX_WORDS=200\n",
    "fig = px.scatter(x=x_vals[:MAX_WORDS], y=y_vals[:MAX_WORDS], text=labels[:MAX_WORDS])\n",
    "fig.show()"
   ]
  },
  {
   "attachments": {},
   "cell_type": "markdown",
   "metadata": {},
   "source": [
    "## Conclusiones\n",
    "\n",
    "### De la gráfica de los embeddings\n",
    "- Vemos que las palabras más comunes del idioma inglés están agrupadas a la izquierda y terminología más especifica a ChatGPT a la derecha.\n",
    "- El término `chatgpt`, central en este dataset, aparece más cerca del origen de coordenadas junto con otros términos muy comunes en general al tema de ChatGPT, como `potential`, `world`, `writing`.\n",
    "- También podemos observar que hay pequeños grupos de palabras que están relacionadas entre sí, como por ejemplo `prompt`, `based`, `text`, `code`; `has`, `had`, `was`, `have`, `been`; `content`, `productivity`, `👇` (Este emoji es muy utilizado tweets hablan sobre como mejorar tu productividad por ejemplo, invitando a seguir leyendo la cadena de respuestas del autor).\n",
    "- También se pueden observar pares de palabras que se relacionan con frecuencia, como `google` con `bard`; `microsoft` con `bing`; `openai` con `gpt4`; `artificial` con `intelligence`.\n",
    "\n",
    "### Del trabajo en general\n",
    "- El dataset completo son 500 mil muestras, se tomó solo 50 mil y solo se entrenó por 20 epochs porque sino se hubiese demorado mucho más.\n",
    "- Se podría aplicar un preprocessing más exhaustivo, como por ejemplo eliminar los emojis, los hashtags, los links, etc.\n",
    "- Estos embeddings se podrían utilizar para analizar la similitud entre tweets, por ejemplo, para agruparlos en clusters y generar recomendaciones de tweets similares a los que le gustan a un usuario sobre esta temática."
   ]
  }
 ],
 "metadata": {
  "colab": {
   "collapsed_sections": [],
   "provenance": []
  },
  "kernelspec": {
   "display_name": "Python 3 (ipykernel)",
   "language": "python",
   "name": "python3"
  },
  "language_info": {
   "codemirror_mode": {
    "name": "ipython",
    "version": 3
   },
   "file_extension": ".py",
   "mimetype": "text/x-python",
   "name": "python",
   "nbconvert_exporter": "python",
   "pygments_lexer": "ipython3",
   "version": "3.11.3"
  }
 },
 "nbformat": 4,
 "nbformat_minor": 4
}
